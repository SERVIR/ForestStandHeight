{
  "nbformat": 4,
  "nbformat_minor": 0,
  "metadata": {
    "colab": {
      "name": "Exercise2_Install_ISCE.ipynb",
      "provenance": [],
      "collapsed_sections": [],
      "toc_visible": true,
      "include_colab_link": true
    },
    "kernelspec": {
      "name": "python3",
      "display_name": "Python 3"
    },
    "accelerator": "GPU"
  },
  "cells": [
    {
      "cell_type": "markdown",
      "metadata": {
        "id": "view-in-github",
        "colab_type": "text"
      },
      "source": [
        "<a href=\"https://colab.research.google.com/github/MayerT1/ForestStandHeight/blob/master/Exercise2_Install_ISCE.ipynb\" target=\"_parent\"><img src=\"https://colab.research.google.com/assets/colab-badge.svg\" alt=\"Open In Colab\"/></a>"
      ]
    },
    {
      "cell_type": "markdown",
      "metadata": {
        "id": "nYdqC79842Zc",
        "colab_type": "text"
      },
      "source": [
        "#Install ISCE using Colaboratory\n"
      ]
    },
    {
      "cell_type": "markdown",
      "metadata": {
        "id": "yuMEdvz_c9Dq",
        "colab_type": "text"
      },
      "source": [
        "#What is ISCE?"
      ]
    },
    {
      "cell_type": "markdown",
      "metadata": {
        "id": "W7q6XnOoDgEI",
        "colab_type": "text"
      },
      "source": [
        "ISCE stands for “InSAR Scientific Computing Environment software.” ISCE supports processing of Interferometric Synthetic Aperture Radar from a several space-borne satellites and one airborne sensor. "
      ]
    },
    {
      "cell_type": "markdown",
      "metadata": {
        "id": "3H5CzLlIHwoQ",
        "colab_type": "text"
      },
      "source": [
        "#Why use ISCE?"
      ]
    },
    {
      "cell_type": "markdown",
      "metadata": {
        "id": "bdLfREQgDrnQ",
        "colab_type": "text"
      },
      "source": [
        "We will use ISCE to preprocess create the interferograms we need for the FSH algorithm from ALOS PALSAR Single Look Complex (SLC) imagery. Originally funded by NASA's Earth Science Technology Office (ESTO) under the Advanced Information Systems Technology (AIST) 2008, ISCE is currently funded under the NASA-ISRO SAR (NISAR) project. Thus, this is a great tool to start using for SAR preprocessing."
      ]
    },
    {
      "cell_type": "markdown",
      "metadata": {
        "id": "um2ZvoaYEHed",
        "colab_type": "text"
      },
      "source": [
        "#Useful Links"
      ]
    },
    {
      "cell_type": "markdown",
      "metadata": {
        "id": "jQYWuP4mELOy",
        "colab_type": "text"
      },
      "source": [
        "* ISCE-2 [GitHub](https://github.com/isce-framework/isce2)\n",
        "* ISCE-2 [Conda-Forge](https://anaconda.org/conda-forge/isce2)\n",
        "* ISCE Users [Forum](http://earthdef.caltech.edu/projects/isce_forum/boards/4)\n",
        "* [Official Website](https://winsar.unavco.org/software/isce)\n",
        "* UNAVCO [Video](https://zoom.us/recording/play/lIm3JJqpElPuuvrXvFwy3PUnkc5rWnK0lyagG6DeAgbu_ESSZT9_kUgh1T39ssPm?startTime=1564416529000) on Installation Using Homebrew or Conda-forge"
      ]
    },
    {
      "cell_type": "markdown",
      "metadata": {
        "id": "ZUL5JgPxHgw4",
        "colab_type": "text"
      },
      "source": [
        "#Installation Flow"
      ]
    },
    {
      "cell_type": "markdown",
      "metadata": {
        "id": "15sm0KM8HdQ0",
        "colab_type": "text"
      },
      "source": [
        "![alt text](https://drive.google.com/uc?id=1amhhLiGKaIx4md-9gxvJNWVPaunwm4d-)"
      ]
    },
    {
      "cell_type": "markdown",
      "metadata": {
        "id": "j4MLqv3BHoqP",
        "colab_type": "text"
      },
      "source": [
        "In order to install ISCE, we will set up the Colaboratory virtual machine (VM). We will clone the required files from the ISCE-2 GitHub page into our colaboratory. Then we will install ISCE using SCons. SCons will run for about an hour before the Runtime Disconnected error appears. After closing and reopening the GitHub, we will move the `Helper` folder created during the SCons install. Then we will set required environmental varaibles and finally test the ISCE installation by calling `stripmapApp.py`, the function we will be using to preprocess our ALOS PALSAR data.\n",
        " "
      ]
    },
    {
      "cell_type": "markdown",
      "metadata": {
        "id": "Jxqy5A2mFkgW",
        "colab_type": "text"
      },
      "source": [
        "# 1. Set Up Colaboratory Virtual Machine"
      ]
    },
    {
      "cell_type": "markdown",
      "metadata": {
        "id": "lgTUOpjMF5BP",
        "colab_type": "text"
      },
      "source": [
        "Before installing ISCE, we will set up the  Virtual Machine where the code in this Colaboratory will be executed. Set up includes mounting your Google Drive and installing dependencies required by the ISCE software. "
      ]
    },
    {
      "cell_type": "markdown",
      "metadata": {
        "id": "KqxufsjEdAdX",
        "colab_type": "text"
      },
      "source": [
        "##1.1 Mount Google Drive"
      ]
    },
    {
      "cell_type": "markdown",
      "metadata": {
        "id": "M7T6zxSFdUxl",
        "colab_type": "text"
      },
      "source": [
        "In order to access your Google Drive and all of the files stored within from the colab, you need to mount your drive. When you run the following code, you will be prompted to authorize your Google account. In this section, you are also creating a symbolic pathname `content/notebooks` that represents `content/mnt/My Drive/Colab Notebooks` to circumvent issues arising from the space in `My Drive`."
      ]
    },
    {
      "cell_type": "code",
      "metadata": {
        "id": "_ha7uSqOQmqD",
        "colab_type": "code",
        "colab": {}
      },
      "source": [
        "import os, sys\n",
        "from google.colab import drive\n",
        "drive.mount('/content/mnt')\n",
        "nb_path = '/content/notebooks'\n",
        "os.symlink('/content/mnt/My Drive/Colab Notebooks', nb_path)\n",
        "sys.path.insert(0, nb_path)  # or append(nb_path)"
      ],
      "execution_count": 0,
      "outputs": []
    },
    {
      "cell_type": "markdown",
      "metadata": {
        "id": "Z6MjADNW4_BI",
        "colab_type": "text"
      },
      "source": [
        "##1.2 Install Dependencies\n"
      ]
    },
    {
      "cell_type": "markdown",
      "metadata": {
        "id": "mxpi_smNHS6q",
        "colab_type": "text"
      },
      "source": [
        "Install all the relevant packages for running ISCE here. "
      ]
    },
    {
      "cell_type": "code",
      "metadata": {
        "id": "J40QNT5fVfwo",
        "colab_type": "code",
        "colab": {}
      },
      "source": [
        "!apt update\n",
        "!apt install -y gfortran libmotif-dev libhdf5-dev libfftw3-dev libgdal-dev scons python3 cython3 python3-scipy python3-matplotlib python3-h5py python3-gdal python3-pip"
      ],
      "execution_count": 0,
      "outputs": []
    },
    {
      "cell_type": "markdown",
      "metadata": {
        "id": "AbeEEwXvGWky",
        "colab_type": "text"
      },
      "source": [
        "#2. Install ISCE"
      ]
    },
    {
      "cell_type": "markdown",
      "metadata": {
        "id": "gnBNhFglGZMK",
        "colab_type": "text"
      },
      "source": [
        "Now that our VM is set up, we will install ISCE. This includes cloning the current version of ISCE from the official ISCE GitHub page and installing using [SCons](https://scons.org/), an open source software construction tool. Since the SCons tool calls itself recursively, **the `helper` folder created during the SCons install process must be moved after running SCons**. "
      ]
    },
    {
      "cell_type": "markdown",
      "metadata": {
        "id": "K7a-TLrTgTkX",
        "colab_type": "text"
      },
      "source": [
        "##2.1 Clone ISCE Files"
      ]
    },
    {
      "cell_type": "markdown",
      "metadata": {
        "id": "uV30yTf1G4i1",
        "colab_type": "text"
      },
      "source": [
        "Run the lines below to create a folder named `isce-notebook` within your colaboratory notebook folder on Google Drive. The final file structure will be `/content/notebooks/isce-notebook/`. This folder is where we will clone the files needed to install ISCE from GitHub. "
      ]
    },
    {
      "cell_type": "markdown",
      "metadata": {
        "id": "U9i8djuxG_xU",
        "colab_type": "text"
      },
      "source": [
        "Use `!ls` to view the files in your current directory. `notebooks` is your Colab notebooks folder. "
      ]
    },
    {
      "cell_type": "code",
      "metadata": {
        "id": "My2Cr59yoZxP",
        "colab_type": "code",
        "colab": {}
      },
      "source": [
        "!ls"
      ],
      "execution_count": 0,
      "outputs": []
    },
    {
      "cell_type": "markdown",
      "metadata": {
        "id": "urtJU4srTqJE",
        "colab_type": "text"
      },
      "source": [
        "Navigate into your notebooks folder."
      ]
    },
    {
      "cell_type": "code",
      "metadata": {
        "id": "jVNTOA5sTpSJ",
        "colab_type": "code",
        "colab": {}
      },
      "source": [
        "%cd /content/notebooks/"
      ],
      "execution_count": 0,
      "outputs": []
    },
    {
      "cell_type": "markdown",
      "metadata": {
        "id": "1-5Seah9kR6_",
        "colab_type": "text"
      },
      "source": [
        "Make a folder named `isce-notebook` to store the ISCE installation files."
      ]
    },
    {
      "cell_type": "code",
      "metadata": {
        "id": "1nslINDSkXqV",
        "colab_type": "code",
        "colab": {}
      },
      "source": [
        "!mkdir isce-notebook"
      ],
      "execution_count": 0,
      "outputs": []
    },
    {
      "cell_type": "markdown",
      "metadata": {
        "id": "M_jr0GG8jERu",
        "colab_type": "text"
      },
      "source": [
        "Navigate into the `isce-notebook` folder. "
      ]
    },
    {
      "cell_type": "code",
      "metadata": {
        "id": "djIGN8kFV7Lp",
        "colab_type": "code",
        "colab": {}
      },
      "source": [
        "%cd /content/notebooks/isce-notebook/"
      ],
      "execution_count": 0,
      "outputs": []
    },
    {
      "cell_type": "markdown",
      "metadata": {
        "id": "BLFRHd-rjRX5",
        "colab_type": "text"
      },
      "source": [
        "Clone the ISCE files from GitHub to the `isce-notebook` folder. This should only take a few moments."
      ]
    },
    {
      "cell_type": "code",
      "metadata": {
        "id": "5wRKHbIGWGIe",
        "colab_type": "code",
        "colab": {}
      },
      "source": [
        "!git clone https://github.com/isce-framework/isce2.git"
      ],
      "execution_count": 0,
      "outputs": []
    },
    {
      "cell_type": "markdown",
      "metadata": {
        "id": "MeCB2HlkjZMF",
        "colab_type": "text"
      },
      "source": [
        "You should now have a file structure as shown below. Notice that the `isce2` folder and all of its contents are now within your `isce-notebook` folder."
      ]
    },
    {
      "cell_type": "markdown",
      "metadata": {
        "id": "wb1QAUBZJ0It",
        "colab_type": "text"
      },
      "source": [
        "![alt text](https://drive.google.com/uc?id=16-SNY-xYQ7p7U_q3ng3FMYlwFJjiGtPn)"
      ]
    },
    {
      "cell_type": "markdown",
      "metadata": {
        "id": "jDIfYju5hyyM",
        "colab_type": "text"
      },
      "source": [
        "##2.2 Create SConfigISCE File"
      ]
    },
    {
      "cell_type": "markdown",
      "metadata": {
        "id": "llWyiYd9hosI",
        "colab_type": "text"
      },
      "source": [
        "Then, run the following code block to create the `SConfigISCE` file within the isce-notebook folder. This file builds paths necessary for building ISCE. "
      ]
    },
    {
      "cell_type": "code",
      "metadata": {
        "id": "ZUbdya0DWR5o",
        "colab_type": "code",
        "colab": {}
      },
      "source": [
        "from google.colab import files\n",
        "\n",
        "with open('isce2/SConfigISCE', 'w') as f:\n",
        "  f.write(\"\"\"\n",
        "  PRJ_SCONS_BUILD=/content/notebooks/isce-notebook/isce-2.2.0/build\n",
        "  PRJ_SCONS_INSTALL=/content/notebooks/isce-notebook/isce-2.2.0/install/isce\n",
        "\n",
        "  LIBPATH=/usr/lib/x86_64-linux-gnu /usr/lib /usr/lib/x86_64-linux-gnu/hdf5/serial\n",
        "  CPPPATH=/usr/include/x86_64-linux-gnu /usr/include /usr/include/python3.6m /usr/include/hdf5/serial /usr/include/gdal\n",
        "  FORTRANPATH=/usr/include /usr/lib/gcc/x86_64-linux-gnu/7/finclude\n",
        "\n",
        "  FORTRAN=/usr/bin/gfortran\n",
        "  CC=/usr/bin/gcc\n",
        "  CXX=/usr/bin/g++\n",
        "\n",
        "  MOTIFLIBPATH = /usr/lib/x86_64-linux-gnu\n",
        "  X11LIBPATH = /usr/lib/x86_64-linux-gnu\n",
        "  MOTIFINCPATH = /usr/include/Xm\n",
        "  X11INCPATH = /usr/include/X11\n",
        "\n",
        "  ENABLE_CUDA=False\n",
        "  \"\"\")"
      ],
      "execution_count": 0,
      "outputs": []
    },
    {
      "cell_type": "markdown",
      "metadata": {
        "id": "HaGNF4pjqRHY",
        "colab_type": "text"
      },
      "source": [
        "Then, navigate into the `isce2` folder cloned from GitHub. This is where the `SConfigISCE` file was created and where ISCE will be installed."
      ]
    },
    {
      "cell_type": "code",
      "metadata": {
        "id": "SJBZLVSTWVFA",
        "colab_type": "code",
        "colab": {}
      },
      "source": [
        "%cd isce2/\n",
        "!ls"
      ],
      "execution_count": 0,
      "outputs": []
    },
    {
      "cell_type": "markdown",
      "metadata": {
        "id": "waowztCvh1K0",
        "colab_type": "text"
      },
      "source": [
        "Install ISCE using the SCons command. This will use the information in the `SConfig` set up file to install ISCE. This will run for about an hour before throwing the **Runtime Disconnect** error shown below. Once the Colaboratory times out, **close the colab completely**, then reopen. Once you've reopened the colab, check to make sure your Google Drive is still connected. If it is not, rerun the step **1.1 Mount Google Drive**. "
      ]
    },
    {
      "cell_type": "markdown",
      "metadata": {
        "id": "7XbwQW2U36n8",
        "colab_type": "text"
      },
      "source": [
        "![alt text](https://drive.google.com/uc?id=1prQ53gV1MHKfaoagSoZR2zLL7f0qdn9N)"
      ]
    },
    {
      "cell_type": "code",
      "metadata": {
        "id": "VP1Lhi1NWvij",
        "colab_type": "code",
        "colab": {}
      },
      "source": [
        "import os, sys\n",
        "os.environ['SCONS_CONFIG_DIR'] = \"/content/notebooks/isce-notebook/isce2\"\n",
        "os.environ['PYTHONPATH'] = \"/content/notebooks/isce-notebook/isce2/configuration\"\n",
        "!scons install --warn=no-all --setupfile=SConfigISCE"
      ],
      "execution_count": 0,
      "outputs": []
    },
    {
      "cell_type": "markdown",
      "metadata": {
        "id": "qHXCyJ14k9Gk",
        "colab_type": "text"
      },
      "source": [
        "You should now have the file structure as shown below. Notice that there is now an `isce-2.2.0 `folder with a `helper` folder within `isce-2.2.0/build`. "
      ]
    },
    {
      "cell_type": "markdown",
      "metadata": {
        "id": "Hdtel_MV3WBM",
        "colab_type": "text"
      },
      "source": [
        "![alt text](https://drive.google.com/uc?id=16hi3WmBcLqvtGe4gcX_uGJjJzroZWmpl)"
      ]
    },
    {
      "cell_type": "markdown",
      "metadata": {
        "id": "F3HQDn3kWeiz",
        "colab_type": "text"
      },
      "source": [
        "##2.3 Move `helper` Folder"
      ]
    },
    {
      "cell_type": "markdown",
      "metadata": {
        "id": "ptHPazPDW428",
        "colab_type": "text"
      },
      "source": [
        "Since the SCons tool calls itself recursively, we must move `helper` manually. Within your table of contents, navigate to `notebooks/isce-notebook/isce-2.2.0/build/`. Select the `helper` folder and move it to the `notebooks/isce-notebook/isce-2.2.0/install/isce` folder. You should now have the file structure as shown below.  "
      ]
    },
    {
      "cell_type": "markdown",
      "metadata": {
        "id": "RekFfwGX4kkA",
        "colab_type": "text"
      },
      "source": [
        "![alt text](https://drive.google.com/uc?id=1rKDH89ZHxfeIK3YxIEwYpNtnlKjQdrzU)"
      ]
    },
    {
      "cell_type": "markdown",
      "metadata": {
        "id": "2Dq6eL44KsUi",
        "colab_type": "text"
      },
      "source": [
        "#3. Run ISCE"
      ]
    },
    {
      "cell_type": "markdown",
      "metadata": {
        "id": "FeL3XZX5K1IL",
        "colab_type": "text"
      },
      "source": [
        "Now let's run ISCE! We will set the required environment variables and then test the ISCE installation."
      ]
    },
    {
      "cell_type": "markdown",
      "metadata": {
        "id": "filiwljy_swm",
        "colab_type": "text"
      },
      "source": [
        "##3.1 Set Environment Variables"
      ]
    },
    {
      "cell_type": "markdown",
      "metadata": {
        "id": "v1NR3E-eFCf7",
        "colab_type": "text"
      },
      "source": [
        "ISCE needs four environment variables set in order to run. "
      ]
    },
    {
      "cell_type": "code",
      "metadata": {
        "id": "8Td74JJWgj3o",
        "colab_type": "code",
        "colab": {}
      },
      "source": [
        "import os\n",
        "os.environ['ISCE_ROOT'] = \"/content/notebooks/isce-notebook/isce-2.2.0/install\"\n",
        "os.environ['ISCE_HOME'] = \"/content/notebooks/isce-notebook/isce-2.2.0/install/isce\"\n",
        "os.environ['PATH'] = \"/content/notebooks/isce-notebook/isce-2.2.0/install/isce/bin:/content/notebooks/isce-notebook/isce-2.2.0/install/isce/applications:/usr/bin/env:/usr/local/nvidia/bin:/usr/local/cuda/bin:/usr/local/sbin:/usr/local/bin:/usr/sbin:/usr/bin:/sbin:/bin:/tools/node/bin:/tools/google-cloud-sdk/bin:/opt/bin\"\n",
        "os.environ['PYTHONPATH']= \"/content/notebooks/isce-notebook/isce-2.2.0/install:/content/notebooks/isce-notebook/isce-2.2.0/install/isce/applications:/content/notebooks/isce-notebook/isce-2.2.0/install/isce/components\""
      ],
      "execution_count": 0,
      "outputs": []
    },
    {
      "cell_type": "markdown",
      "metadata": {
        "id": "_YJol3qbB76k",
        "colab_type": "text"
      },
      "source": [
        "Use the personal working directory to confirm that you are within the `isce-2 `folder."
      ]
    },
    {
      "cell_type": "code",
      "metadata": {
        "id": "uekqwAqGoj78",
        "colab_type": "code",
        "colab": {}
      },
      "source": [
        "!pwd"
      ],
      "execution_count": 0,
      "outputs": []
    },
    {
      "cell_type": "markdown",
      "metadata": {
        "id": "IpgeByhaoW4A",
        "colab_type": "text"
      },
      "source": [
        "If you aren't within the isce2 folder,  please use the change directory command below to navigate there. "
      ]
    },
    {
      "cell_type": "code",
      "metadata": {
        "id": "j4-uZPREr-D_",
        "colab_type": "code",
        "colab": {}
      },
      "source": [
        "%cd notebooks/isce-notebook/isce2/"
      ],
      "execution_count": 0,
      "outputs": []
    },
    {
      "cell_type": "markdown",
      "metadata": {
        "id": "aso3CneYsZRW",
        "colab_type": "text"
      },
      "source": [
        "Check your environment `$PATH` variables."
      ]
    },
    {
      "cell_type": "code",
      "metadata": {
        "id": "0WUpoMTvnba9",
        "colab_type": "code",
        "colab": {}
      },
      "source": [
        "!echo $PATH"
      ],
      "execution_count": 0,
      "outputs": []
    },
    {
      "cell_type": "markdown",
      "metadata": {
        "id": "d7ULB_hwmFXK",
        "colab_type": "text"
      },
      "source": [
        "##3.2 Test the ISCE installation"
      ]
    },
    {
      "cell_type": "markdown",
      "metadata": {
        "id": "si9grOvHmJod",
        "colab_type": "text"
      },
      "source": [
        "For this exercise, we will use `stripmapApp.py` to create interferograms from Single Look Complex (SLC) scenes from ALOS PALSAR. You can review the data and objectives of Exercise 2 [here](https://docs.google.com/presentation/d/1BP_EC6AZ4wonHluoIeoP_R-ChchMf970Il1Ie70gZJg/edit?usp=sharing). Let's check our installation of ISCE and learn more by calling `help` for `stripmapApp.py`."
      ]
    },
    {
      "cell_type": "code",
      "metadata": {
        "id": "-uoTV65vhTRx",
        "colab_type": "code",
        "colab": {}
      },
      "source": [
        "!python3 $ISCE_HOME/applications/stripmapApp.py --help"
      ],
      "execution_count": 0,
      "outputs": []
    },
    {
      "cell_type": "markdown",
      "metadata": {
        "id": "GKy-J7zymw4C",
        "colab_type": "text"
      },
      "source": [
        "After running the code block above, you should see a brief description of the ISCE software and InSAR application, in addition to a table of configurable parameters as show below."
      ]
    },
    {
      "cell_type": "markdown",
      "metadata": {
        "id": "ZFdgaco2ptsV",
        "colab_type": "text"
      },
      "source": [
        "![alt text](https://drive.google.com/uc?id=1YUmSHl2XL3n2cDb7PlPVS5pmSbuI9IjC)"
      ]
    },
    {
      "cell_type": "markdown",
      "metadata": {
        "id": "z1aIc_onIUis",
        "colab_type": "text"
      },
      "source": [
        "#4. Next Steps"
      ]
    },
    {
      "cell_type": "markdown",
      "metadata": {
        "id": "X471LPg9IYu0",
        "colab_type": "text"
      },
      "source": [
        "Next we will preprocess Single Look Complex (SLC) data from ALOS PALSAR using ISCE. Our output will be a geocoded interferogram. For this step, please continue to the Exercise2_Preprocess_ISCE Colab."
      ]
    }
  ]
}