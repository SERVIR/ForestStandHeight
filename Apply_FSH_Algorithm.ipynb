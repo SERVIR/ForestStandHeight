{
  "nbformat": 4,
  "nbformat_minor": 0,
  "metadata": {
    "colab": {
      "name": "Copy of 11_25_Exercise_1_FSH.ipynb",
      "provenance": [],
      "toc_visible": true,
      "include_colab_link": true
    },
    "kernelspec": {
      "name": "python3",
      "display_name": "Python 3"
    },
    "accelerator": "GPU"
  },
  "cells": [
    {
      "cell_type": "markdown",
      "metadata": {
        "id": "view-in-github",
        "colab_type": "text"
      },
      "source": [
        "<a href=\"https://colab.research.google.com/github/SERVIR/ForestStandHeight/blob/master/Apply_FSH_Algorithm.ipynb\" target=\"_parent\"><img src=\"https://colab.research.google.com/assets/colab-badge.svg\" alt=\"Open In Colab\"/></a>"
      ]
    },
    {
      "cell_type": "markdown",
      "metadata": {
        "id": "YMXRFMmZAawh",
        "colab_type": "text"
      },
      "source": [
        "# Steps of Installation and Running Forest Stand Height (FSH) Python Scripts in your Google Drive permanently"
      ]
    },
    {
      "cell_type": "markdown",
      "metadata": {
        "id": "3Rw8z3tzQNdY",
        "colab_type": "text"
      },
      "source": [
        "## **(1) Mounting your Google Drive**\n",
        "You have to run this script everytime to mount your Google Drive on your runtime using an authorization code\n",
        "\n",
        "<img src=\"http://icons.iconarchive.com/icons/marcus-roberto/google-play/256/Google-Drive-icon.png\">"
      ]
    },
    {
      "cell_type": "code",
      "metadata": {
        "id": "39sbq0stQJBk",
        "colab_type": "code",
        "outputId": "ef806f60-494d-4b4c-d726-edeabd3ba2eb",
        "colab": {
          "base_uri": "https://localhost:8080/",
          "height": 124
        }
      },
      "source": [
        "import os, sys\n",
        "from google.colab import drive\n",
        "drive.mount('/content/mnt')\n",
        "nb_path = '/content/notebooks'\n",
        "#create a symbolic link for pointing to /content/mnt/My Drive/Colab Notebooks\n",
        "os.symlink('/content/mnt/My Drive/Colab Notebooks', nb_path)\n",
        "sys.path.insert(0, nb_path) "
      ],
      "execution_count": 0,
      "outputs": [
        {
          "output_type": "stream",
          "text": [
            "Go to this URL in a browser: https://accounts.google.com/o/oauth2/auth?client_id=947318989803-6bn6qk8qdgf4n4g3pfee6491hc0brc4i.apps.googleusercontent.com&redirect_uri=urn%3aietf%3awg%3aoauth%3a2.0%3aoob&response_type=code&scope=email%20https%3a%2f%2fwww.googleapis.com%2fauth%2fdocs.test%20https%3a%2f%2fwww.googleapis.com%2fauth%2fdrive%20https%3a%2f%2fwww.googleapis.com%2fauth%2fdrive.photos.readonly%20https%3a%2f%2fwww.googleapis.com%2fauth%2fpeopleapi.readonly\n",
            "\n",
            "Enter your authorization code:\n",
            "··········\n",
            "Mounted at /content/mnt\n"
          ],
          "name": "stdout"
        }
      ]
    },
    {
      "cell_type": "markdown",
      "metadata": {
        "id": "h-7IK5NKQaqw",
        "colab_type": "text"
      },
      "source": [
        "## **(2) Install Required Python Libraries**\n",
        "*   mpmath\n",
        "*   simplekml\n",
        "\n"
      ]
    },
    {
      "cell_type": "code",
      "metadata": {
        "id": "IVC5Ew08R96Z",
        "colab_type": "code",
        "outputId": "b3b80c7a-0061-4243-b872-aeea9c127c9a",
        "colab": {
          "base_uri": "https://localhost:8080/",
          "height": 212
        }
      },
      "source": [
        "!pip install mpmath simplekml"
      ],
      "execution_count": 0,
      "outputs": [
        {
          "output_type": "stream",
          "text": [
            "Requirement already satisfied: mpmath in /usr/local/lib/python3.6/dist-packages (1.1.0)\n",
            "Collecting simplekml\n",
            "  Downloading https://files.pythonhosted.org/packages/62/88/feeb5ac5ae528c81daed9fe9864ec42496b80ffbcf83ac60bb6feb5b7f80/simplekml-1.3.1.tar.gz\n",
            "Building wheels for collected packages: simplekml\n",
            "  Building wheel for simplekml (setup.py) ... \u001b[?25l\u001b[?25hdone\n",
            "  Created wheel for simplekml: filename=simplekml-1.3.1-cp36-none-any.whl size=51047 sha256=1109215e01439b2d4eda8f06f242393fd8e5e4619506718d73558b22169370af\n",
            "  Stored in directory: /root/.cache/pip/wheels/12/12/8f/9e22dd924dc3cedb41f9888379000713e980478437af610d0e\n",
            "Successfully built simplekml\n",
            "Installing collected packages: simplekml\n",
            "Successfully installed simplekml-1.3.1\n"
          ],
          "name": "stdout"
        }
      ]
    },
    {
      "cell_type": "markdown",
      "metadata": {
        "id": "qtG2UtbeTg8t",
        "colab_type": "text"
      },
      "source": [
        "## **(3) Create FSH folder in Google Drive on notebooks folder**\n"
      ]
    },
    {
      "cell_type": "code",
      "metadata": {
        "id": "iFBqgnLwUED1",
        "colab_type": "code",
        "outputId": "26eba3b7-76f3-4b84-e2b5-dd50946892ac",
        "colab": {
          "base_uri": "https://localhost:8080/",
          "height": 52
        }
      },
      "source": [
        "%cd /content/notebooks/\n",
        "!mkdir FSH"
      ],
      "execution_count": 0,
      "outputs": [
        {
          "output_type": "stream",
          "text": [
            "/content/mnt/My Drive/Colab Notebooks\n",
            "mkdir: cannot create directory ‘FSH’: File exists\n"
          ],
          "name": "stdout"
        }
      ]
    },
    {
      "cell_type": "markdown",
      "metadata": {
        "id": "wzeBJLvhUq2a",
        "colab_type": "text"
      },
      "source": [
        "## **(4) Download FSH Python scripts and Example data to your Google Drive**\n",
        "\n",
        "\n",
        "<img src=\"data:image/png;base64,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\">"
      ]
    },
    {
      "cell_type": "markdown",
      "metadata": {
        "id": "q0D7S82G2Pnk",
        "colab_type": "text"
      },
      "source": [
        "***Work on FSH folder***"
      ]
    },
    {
      "cell_type": "code",
      "metadata": {
        "id": "szoDEQxc2XvL",
        "colab_type": "code",
        "outputId": "79a5e682-e70f-4f35-99ba-b0e1a9ef005f",
        "colab": {
          "base_uri": "https://localhost:8080/",
          "height": 34
        }
      },
      "source": [
        "%cd /content/notebooks/FSH"
      ],
      "execution_count": 0,
      "outputs": [
        {
          "output_type": "stream",
          "text": [
            "/content/mnt/My Drive/Colab Notebooks/FSH\n"
          ],
          "name": "stdout"
        }
      ]
    },
    {
      "cell_type": "markdown",
      "metadata": {
        "id": "bNENYqRZIl1b",
        "colab_type": "text"
      },
      "source": [
        ""
      ]
    },
    {
      "cell_type": "code",
      "metadata": {
        "id": "tRpW9xRjUqoP",
        "colab_type": "code",
        "outputId": "b6650f3a-4a7c-4dbd-99a2-964b5cf58a0f",
        "colab": {
          "base_uri": "https://localhost:8080/",
          "height": 212
        }
      },
      "source": [
        "!git clone https://github.com/MayerT1/FSH_Python3.git"
      ],
      "execution_count": 0,
      "outputs": [
        {
          "output_type": "stream",
          "text": [
            "Cloning into 'FSH_Python3'...\n",
            "remote: Enumerating objects: 63, done.\u001b[K\n",
            "remote: Counting objects: 100% (63/63), done.\u001b[K\n",
            "remote: Compressing objects: 100% (56/56), done.\u001b[K\n",
            "remote: Total 63 (delta 19), reused 12 (delta 6), pack-reused 0\u001b[K\n",
            "Unpacking objects: 100% (63/63), done.\n",
            "Cloning into 'FSH_data'...\n",
            "remote: Enumerating objects: 45, done.\u001b[K\n",
            "remote: Counting objects: 100% (45/45), done.\u001b[K\n",
            "remote: Compressing objects: 100% (42/42), done.\u001b[K\n",
            "remote: Total 45 (delta 17), reused 5 (delta 1), pack-reused 0\u001b[K\n",
            "Unpacking objects: 100% (45/45), done.\n"
          ],
          "name": "stdout"
        }
      ]
    },
    {
      "cell_type": "markdown",
      "metadata": {
        "id": "XjwZZPtCWTGF",
        "colab_type": "text"
      },
      "source": [
        "## **(5) Add the Exercise 1 data to your Google Drive so that COLAB can access it**\n",
        "\n",
        "\n",
        "<img src=\"http://icons.iconarchive.com/icons/marcus-roberto/google-play/256/Google-Drive-icon.png\">"
      ]
    },
    {
      "cell_type": "code",
      "metadata": {
        "id": "lvhh2bSyNisr",
        "colab_type": "code",
        "colab": {}
      },
      "source": [
        "!mkdir FSH_data"
      ],
      "execution_count": 0,
      "outputs": []
    },
    {
      "cell_type": "code",
      "metadata": {
        "id": "WNHHLb14CsRc",
        "colab_type": "code",
        "colab": {}
      },
      "source": [
        ""
      ],
      "execution_count": 0,
      "outputs": []
    },
    {
      "cell_type": "code",
      "metadata": {
        "id": "RH_xe7N4V60g",
        "colab_type": "code",
        "colab": {}
      },
      "source": [
        "%cd /content/notebooks/FSH/FSH_data"
      ],
      "execution_count": 0,
      "outputs": []
    },
    {
      "cell_type": "markdown",
      "metadata": {
        "id": "EnPVDzmRNrSv",
        "colab_type": "text"
      },
      "source": [
        "\n",
        "Follow the link to the [Excerise 1 FSH_data folder](https://drive.google.com/file/d/0B6s-Z6YH5T12Q2g0cWprSUtiMDA/view).\n",
        " * Download, and unzip the files, and add to your Google Drive.\n",
        "<img src=\"https://docs.google.com/drawings/d/e/2PACX-1vQjepchRFI0p8FCWX-CbZsmpMNkCMBFWTIxjd083dbVKD8FgyL2sj8YiE-PUb7a5Q0j0fT82vRfXxUN/pub?w=1440&amp;h=1332\">\n",
        "\n",
        " * Move all of the files to your created FSH_data folder to `My Drive/Colab Notebooks/FSH/FSH_data`\n",
        "<img src=\"https://docs.google.com/drawings/d/e/2PACX-1vRDtq5TrgugRABzPbRTpoa9DB1SbjdvGKRPLaC18U8tuIZXceGVzCy3_nNTvRXEVKRUJiWILR49t2sn/pub?w=506&amp;h=512\">"
      ]
    },
    {
      "cell_type": "markdown",
      "metadata": {
        "id": "wRF5ZZ8eWgJ7",
        "colab_type": "text"
      },
      "source": [
        " ***Work on FSH_data folder***"
      ]
    },
    {
      "cell_type": "code",
      "metadata": {
        "id": "XAp29OJZWnwp",
        "colab_type": "code",
        "outputId": "0e000090-42f9-4e8f-86f8-eed3f60345a5",
        "colab": {
          "base_uri": "https://localhost:8080/",
          "height": 33
        }
      },
      "source": [
        "!pwd"
      ],
      "execution_count": 0,
      "outputs": [
        {
          "output_type": "stream",
          "text": [
            "/content/mnt/My Drive/Colab Notebooks/FSH/FSH_data\n"
          ],
          "name": "stdout"
        }
      ]
    },
    {
      "cell_type": "markdown",
      "metadata": {
        "id": "bGegXc3YX9mV",
        "colab_type": "text"
      },
      "source": [
        "## **(6) Run the Forest Stand Height**  \n",
        "\n",
        "<img src=\"https://i.pinimg.com/originals/67/19/0b/67190b2076ccdf40951b613878e6bdf8.png\">\n",
        "\n",
        "\n",
        "*   auto_tree_height_many() - extracts data from ROI_PAC/ISCE output files and formats them for use in the rest of the scripts (15 secs)\n",
        "*   intermediate() - calculates the overlap between each pair of images (12 mins 17 secs)\n",
        "*   auto_mosaicking_new() - runs iterations of mosaicking (~34 secs per iteration, or 2 mins 49 secs total)\n",
        "*   write_deltaSC() - calculates the temporal change parameters based on the final iteration (less than a second)\n",
        "*   write_mapfile_new() - calculates and writes the tree height map to a file (7 mins 55 secs)\n",
        "*   Use of --flag_diff calls write_diff_height_map() to produce the forest differential height map between the radar and overlapping lidar images (1 sec).\n",
        "*   Use of --flag_error calls cal_error_metric() to produce the error metric file\n",
        "*   List item that can be used for plotting figures (5 secs)"
      ]
    },
    {
      "cell_type": "code",
      "metadata": {
        "id": "LR4xpFNroEpE",
        "colab_type": "code",
        "outputId": "13a5c818-8092-4e25-c61e-a37b9648207f",
        "colab": {
          "base_uri": "https://localhost:8080/",
          "height": 33
        }
      },
      "source": [
        "!pwd"
      ],
      "execution_count": 0,
      "outputs": [
        {
          "output_type": "stream",
          "text": [
            "/content/mnt/My Drive/Colab Notebooks/FSH/FSH_data\n"
          ],
          "name": "stdout"
        }
      ]
    },
    {
      "cell_type": "code",
      "metadata": {
        "id": "-OAVYraKoJJ7",
        "colab_type": "code",
        "outputId": "7e0db063-5a68-4aca-900f-a7d5db19def4",
        "colab": {
          "base_uri": "https://localhost:8080/",
          "height": 33
        }
      },
      "source": [
        "%cd /content/notebooks/FSH/FSH_Python3"
      ],
      "execution_count": 0,
      "outputs": [
        {
          "output_type": "stream",
          "text": [
            "/content/mnt/My Drive/Colab Notebooks/FSH/FSH_Python3\n"
          ],
          "name": "stdout"
        }
      ]
    },
    {
      "cell_type": "code",
      "metadata": {
        "id": "G_ChQAX5oTXd",
        "colab_type": "code",
        "outputId": "a5cd9ca0-07df-48c4-c05e-73468559da02",
        "colab": {
          "base_uri": "https://localhost:8080/",
          "height": 342
        }
      },
      "source": [
        "!ls"
      ],
      "execution_count": 0,
      "outputs": [
        {
          "output_type": "stream",
          "text": [
            "arc_sinc.py\t\t\t   intermediate.py\n",
            "auto_mosaicking_new.py\t\t   intermediate_self.py\n",
            "auto_tree_height_many.py\t   LICENSE\n",
            "auto_tree_height_single_ISCE.py    ls_deltaSC.py\n",
            "auto_tree_height_single_ROIPAC.py  mean_wo_nan.py\n",
            "cal_error_metric_pairwise.py\t   preview.jpg\n",
            "cal_error_metric.py\t\t   __pycache__\n",
            "cal_error_metric_self.py\t   read_geo_data.py\n",
            "cal_KB_pairwise_new.py\t\t   read_linkfile.py\n",
            "cal_KB.py\t\t\t   README.md\n",
            "cal_KB_self_new.py\t\t   read_rsc_data.py\n",
            "create_mosaic.py\t\t   remove_corr_bias.py\n",
            "CROP_ISCE.py\t\t\t   remove_nonforest.py\n",
            "CROP_ROIPAC.py\t\t\t   remove_outlier.py\n",
            "Exercise2_Install_ISCE.ipynb\t   scripts\n",
            "extract_scatterplot_density.py\t   write_deltaSC.py\n",
            "flag_scene_file.py\t\t   write_diff_height_map.py\n",
            "forest_stand_height.py\t\t   write_file_type.py\n",
            "FSHTesting_10_22_19.ipynb\t   write_mapfile_new.py\n",
            "intermediate_pairwise.py\n"
          ],
          "name": "stdout"
        }
      ]
    },
    {
      "cell_type": "code",
      "metadata": {
        "id": "_FN4R6xawzfP",
        "colab_type": "code",
        "outputId": "4969758c-b0d5-4e9b-f224-8ab770904e68",
        "colab": {
          "base_uri": "https://localhost:8080/",
          "height": 297
        }
      },
      "source": [
        "!python /content/notebooks/FSH/FSH_Python3/forest_stand_height.py 3 2 2 5 \"linkfile.txt\" \"flagfile.txt\" \"Howland_LVIS_NaN.tif\" \"Maine_NLCD2011_nonwildland.tif\" /content/notebooks/FSH/FSH_data/ \"gif json kml mat tif\" --flag_diff=1 --flag_error=1  --flag_proc=1"
      ],
      "execution_count": 0,
      "outputs": [
        {
          "output_type": "stream",
          "text": [
            "\n",
            "\n",
            "Namespace(N_pairwise=20, N_self=10, Nd_pairwise=20, Nd_self=10, bin_size=100, edges=2, file_directory='/content/notebooks/FSH/FSH_data/', filetypes='gif json kml mat tif', flag_diff=1, flag_error=1, flag_grad=0, flag_proc=1, flag_sparse=0, flagfile='flagfile.txt', iterations=5, linkfilename='linkfile.txt', maskfile='Maine_NLCD2011_nonwildland.tif', noiselevel=0.0, numLooks=20, ref_file='Howland_LVIS_NaN.tif', scenes=3, start_scene=2)\n",
            "\n",
            "\n",
            "16:24:45\n",
            "Traceback (most recent call last):\n",
            "  File \"/content/notebooks/FSH/FSH_Python3/forest_stand_height.py\", line 121, in <module>\n",
            "    forest_stand_height(args.scenes, args.edges, args.start_scene, args.iterations, args.linkfilename, args.flagfile, args.ref_file, args.maskfile, args.file_directory, args.filetypes.strip().split(\" \"), args.Nd_pairwise, args.Nd_self, args.N_pairwise, args.N_self, args.bin_size, args.flag_sparse, args.flag_diff, args.flag_error, args.numLooks, args.noiselevel, args.flag_proc, args.flag_grad)\n",
            "  File \"/content/notebooks/FSH/FSH_Python3/forest_stand_height.py\", line 47, in forest_stand_height\n",
            "    athm.auto_tree_height_many(scenes, flagfile, file_directory, numLooks, noiselevel, flag_proc, flag_grad)\n",
            "  File \"/content/mnt/My Drive/Colab Notebooks/FSH/FSH_Python3/auto_tree_height_many.py\", line 40, in auto_tree_height_many\n",
            "    file_data = athsI.auto_tree_height_single_ISCE(directory + image_folder, scene_data[2], scene_data[3], numLooks, noiselevel, flag_grad)\n",
            "  File \"/content/mnt/My Drive/Colab Notebooks/FSH/FSH_Python3/auto_tree_height_single_ISCE.py\", line 28, in auto_tree_height_single_ISCE\n",
            "    range_pixel_res = float(strg.split()[-1])\n",
            "ValueError: could not convert string to float: 'directory'\n"
          ],
          "name": "stdout"
        }
      ]
    },
    {
      "cell_type": "markdown",
      "metadata": {
        "id": "kd49PL4VynCA",
        "colab_type": "text"
      },
      "source": [
        "## **(7) Create the mosaic of the generated forest height maps for all of the scenes**"
      ]
    },
    {
      "cell_type": "code",
      "metadata": {
        "id": "0PqPYZx0ylrP",
        "colab_type": "code",
        "outputId": "3f7d4f30-eec4-4d60-d2ab-dc64e110ba58",
        "colab": {
          "base_uri": "https://localhost:8080/",
          "height": 228
        }
      },
      "source": [
        "!python /content/notebooks/FSH/FSH_Python3/create_mosaic.py \"/content/notebooks/FSH/FSH_data/\" \"3sc_mosaic.tif\" \"/content/notebooks/FSH/FSH_data/f890_o118/890_118_20070808_HV_20070923_HV_fsh.tif /content/notebooks/FSH/FSH_data/f890_o119/890_119_20070710_HV_20071010_HV_fsh.tif /content/notebooks/FSH/FSH_data/f890_o120/890_120_20070727_HV_20070911_HV_fsh.tif\""
      ],
      "execution_count": 0,
      "outputs": [
        {
          "output_type": "stream",
          "text": [
            "\n",
            "\n",
            "Namespace(directory='/content/notebooks/FSH/FSH_data/', listoffiles='/content/notebooks/FSH/FSH_data/f890_o118/890_118_20070808_HV_20070923_HV_fsh.tif /content/notebooks/FSH/FSH_data/f890_o119/890_119_20070710_HV_20071010_HV_fsh.tif /content/notebooks/FSH/FSH_data/f890_o120/890_120_20070727_HV_20070911_HV_fsh.tif', mosaicfile='3sc_mosaic.tif')\n",
            "\n",
            "\n",
            "16:25:09\n",
            "ERROR 4: /content/notebooks/FSH/FSH_data/mosaic.tif: No such file or directory\n",
            "Traceback (most recent call last):\n",
            "  File \"/content/notebooks/FSH/FSH_Python3/create_mosaic.py\", line 80, in <module>\n",
            "    create_mosaic(args.directory,args.mosaicfile,args.listoffiles)\n",
            "  File \"/content/notebooks/FSH/FSH_Python3/create_mosaic.py\", line 28, in create_mosaic\n",
            "    ref_data = array(img.ReadAsArray())\n",
            "AttributeError: 'NoneType' object has no attribute 'ReadAsArray'\n"
          ],
          "name": "stdout"
        }
      ]
    },
    {
      "cell_type": "markdown",
      "metadata": {
        "id": "nyV1Q4eExjXR",
        "colab_type": "text"
      },
      "source": [
        "## **(8) Open the forest stand height output \"/content/notebooks/FSH/FSH_data3sc_mosaic.tif\"**\n",
        "**in QGIS or others GIS software**\n",
        "\n",
        "Also all outputs can be found [here](https://drive.google.com/open?id=1djhjkvssKHJWE1YSCKTNCTzai29wMA_c)\n",
        "![](https://drive.google.com/uc?export=view&id=17b7-oSMPN8U353i0Gj4INP-3rGrs_jQN)\n",
        "\n",
        "<img src=\"https://sa1-api.asm.skype.com/v1/objects/0-sa-d5-c8259b57346cde25735281e0418e25b0/views/imgpsh_fullsize_anim\">\n",
        "\n"
      ]
    }
  ]
}