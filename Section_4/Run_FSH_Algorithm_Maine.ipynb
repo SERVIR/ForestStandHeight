{
  "nbformat": 4,
  "nbformat_minor": 0,
  "metadata": {
    "colab": {
      "name": "Apply_FSH_Algorithm_Maine.ipynb",
      "provenance": [],
      "toc_visible": true,
      "include_colab_link": true
    },
    "kernelspec": {
      "name": "python3",
      "display_name": "Python 3"
    },
    "accelerator": "GPU"
  },
  "cells": [
    {
      "cell_type": "markdown",
      "metadata": {
        "id": "view-in-github",
        "colab_type": "text"
      },
      "source": [
        "<a href=\"https://colab.research.google.com/github/SERVIR/ForestStandHeight/blob/master/Apply_FSH_Algorithm_Maine.ipynb\" target=\"_parent\"><img src=\"https://colab.research.google.com/assets/colab-badge.svg\" alt=\"Open In Colab\"/></a>"
      ]
    },
    {
      "cell_type": "markdown",
      "metadata": {
        "id": "YMXRFMmZAawh",
        "colab_type": "text"
      },
      "source": [
        "## Apply Forest Stand Height (FSH) Algorithm"
      ]
    },
    {
      "cell_type": "markdown",
      "metadata": {
        "id": "dun0YdbOBetp",
        "colab_type": "text"
      },
      "source": [
        "In this Colaboratory we will run the Forest Stand Height (FSH) Python Scripts on preprocessed ALOS PALSAR scenes over central Maine, US. These scripts were created by Paul Siquiera and Lei Yang. "
      ]
    },
    {
      "cell_type": "markdown",
      "metadata": {
        "id": "XVrB4IjPBtgi",
        "colab_type": "text"
      },
      "source": [
        "##Useful links:"
      ]
    },
    {
      "cell_type": "markdown",
      "metadata": {
        "id": "TXDH4x6jBxi5",
        "colab_type": "text"
      },
      "source": [
        "*   [Lei Yang's GitHub](https://github.com/leiyangleon/FSH)\n",
        "*   [SERVIR Global's FSH GitHub page](https://github.com/SERVIR/ForestStandHeight)\n",
        "*   [SAR Handbook](https://servirglobal.net/Global/Articles/Article/2674/sar-handbook-comprehensive-methodologies-for-forest-monitoring-and-biomass-estimation)\n",
        "\n",
        "\n",
        "\n"
      ]
    },
    {
      "cell_type": "markdown",
      "metadata": {
        "id": "3Rw8z3tzQNdY",
        "colab_type": "text"
      },
      "source": [
        "## **(1) Mounting your Google Drive**\n",
        "In order to access your Google Drive and all of the files stored within from the colab, you need to mount your drive. When you run the following code, you will be prompted to authorize your Google account. In this section, you are also creating a symbolic pathname `content/notebooks` that represents `content/mnt/My Drive/Colab Notebooks` to circumvent issues arising from the space in `My Drive`.\n",
        "\n",
        "<img src=\"http://icons.iconarchive.com/icons/marcus-roberto/google-play/256/Google-Drive-icon.png\">"
      ]
    },
    {
      "cell_type": "code",
      "metadata": {
        "id": "39sbq0stQJBk",
        "colab_type": "code",
        "outputId": "48079350-a4c8-48a5-fa62-3dc89180316b",
        "colab": {
          "base_uri": "https://localhost:8080/",
          "height": 124
        }
      },
      "source": [
        "import os, sys\n",
        "from google.colab import drive\n",
        "drive.mount('/content/mnt')\n",
        "nb_path = '/content/notebooks'\n",
        "#create a symbolic link for pointing to /content/mnt/My Drive/Colab Notebooks\n",
        "os.symlink('/content/mnt/My Drive/Colab Notebooks', nb_path)\n",
        "sys.path.insert(0, nb_path) "
      ],
      "execution_count": 0,
      "outputs": [
        {
          "output_type": "stream",
          "text": [
            "Go to this URL in a browser: https://accounts.google.com/o/oauth2/auth?client_id=947318989803-6bn6qk8qdgf4n4g3pfee6491hc0brc4i.apps.googleusercontent.com&redirect_uri=urn%3aietf%3awg%3aoauth%3a2.0%3aoob&response_type=code&scope=email%20https%3a%2f%2fwww.googleapis.com%2fauth%2fdocs.test%20https%3a%2f%2fwww.googleapis.com%2fauth%2fdrive%20https%3a%2f%2fwww.googleapis.com%2fauth%2fdrive.photos.readonly%20https%3a%2f%2fwww.googleapis.com%2fauth%2fpeopleapi.readonly\n",
            "\n",
            "Enter your authorization code:\n",
            "··········\n",
            "Mounted at /content/mnt\n"
          ],
          "name": "stdout"
        }
      ]
    },
    {
      "cell_type": "markdown",
      "metadata": {
        "id": "h-7IK5NKQaqw",
        "colab_type": "text"
      },
      "source": [
        "## **(2) Install Required Python Libraries**\n",
        "*   [mpmath](http://mpmath.org/) - for real and complex floating-point arithmetic\n",
        "*   [simplekml](https://simplekml.readthedocs.io/en/latest/) - to create kml files\n",
        "\n"
      ]
    },
    {
      "cell_type": "code",
      "metadata": {
        "id": "IVC5Ew08R96Z",
        "colab_type": "code",
        "outputId": "d438527a-8f63-450d-eb36-ab03e4dd7ff5",
        "colab": {
          "base_uri": "https://localhost:8080/",
          "height": 211
        }
      },
      "source": [
        "!pip install mpmath simplekml"
      ],
      "execution_count": 0,
      "outputs": [
        {
          "output_type": "stream",
          "text": [
            "Requirement already satisfied: mpmath in /usr/local/lib/python3.6/dist-packages (1.1.0)\n",
            "Collecting simplekml\n",
            "  Downloading https://files.pythonhosted.org/packages/62/88/feeb5ac5ae528c81daed9fe9864ec42496b80ffbcf83ac60bb6feb5b7f80/simplekml-1.3.1.tar.gz\n",
            "Building wheels for collected packages: simplekml\n",
            "  Building wheel for simplekml (setup.py) ... \u001b[?25l\u001b[?25hdone\n",
            "  Created wheel for simplekml: filename=simplekml-1.3.1-cp36-none-any.whl size=51047 sha256=8e8b75f55db2bc5e6d0f8374b09fa6f5f43156eb64de81843782b219effea021\n",
            "  Stored in directory: /root/.cache/pip/wheels/12/12/8f/9e22dd924dc3cedb41f9888379000713e980478437af610d0e\n",
            "Successfully built simplekml\n",
            "Installing collected packages: simplekml\n",
            "Successfully installed simplekml-1.3.1\n"
          ],
          "name": "stdout"
        }
      ]
    },
    {
      "cell_type": "markdown",
      "metadata": {
        "id": "qtG2UtbeTg8t",
        "colab_type": "text"
      },
      "source": [
        "## **(3) Create FSH Folder**\n"
      ]
    },
    {
      "cell_type": "markdown",
      "metadata": {
        "id": "1I-BQ17JDp7u",
        "colab_type": "text"
      },
      "source": [
        "The next code block creates a folder named `FSH` within your `Colab Notebooks` folder on your Google Drive. The FSH scripts and outputs from these scripts will all be stored within the `FSH` folder. "
      ]
    },
    {
      "cell_type": "code",
      "metadata": {
        "id": "iFBqgnLwUED1",
        "colab_type": "code",
        "outputId": "17c3721b-7173-4be4-a0b5-138fabda88a6",
        "colab": {
          "base_uri": "https://localhost:8080/",
          "height": 35
        }
      },
      "source": [
        "%cd /content/notebooks/\n",
        "!mkdir FSH"
      ],
      "execution_count": 0,
      "outputs": [
        {
          "output_type": "stream",
          "text": [
            "/content/mnt/My Drive/Colab Notebooks\n"
          ],
          "name": "stdout"
        }
      ]
    },
    {
      "cell_type": "markdown",
      "metadata": {
        "id": "wzeBJLvhUq2a",
        "colab_type": "text"
      },
      "source": [
        "## **(4) Add the FSH Python Scripts to your Google Drive**\n",
        "\n",
        "\n",
        "<img src=\"data:image/png;base64,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\">"
      ]
    },
    {
      "cell_type": "markdown",
      "metadata": {
        "id": "q0D7S82G2Pnk",
        "colab_type": "text"
      },
      "source": [
        "Use the change directory command below to move your current working directory to be the `FSH` folder that you created in the previous step."
      ]
    },
    {
      "cell_type": "code",
      "metadata": {
        "id": "szoDEQxc2XvL",
        "colab_type": "code",
        "outputId": "571f84fd-b0da-417d-c81f-1d57b1fd3052",
        "colab": {
          "base_uri": "https://localhost:8080/",
          "height": 35
        }
      },
      "source": [
        "%cd /content/notebooks/FSH"
      ],
      "execution_count": 0,
      "outputs": [
        {
          "output_type": "stream",
          "text": [
            "/content/mnt/My Drive/Colab Notebooks/FSH\n"
          ],
          "name": "stdout"
        }
      ]
    },
    {
      "cell_type": "markdown",
      "metadata": {
        "id": "bNENYqRZIl1b",
        "colab_type": "text"
      },
      "source": [
        "Run the codeblock below to clone the FSH scripts from the GitHub repository to the FSH folder on your Google Drive. \n",
        "\n",
        "Please note: Once the scripts updated to Python 3 are hosted on Lei Yang's GitHub, the following line will clone from there instead.  "
      ]
    },
    {
      "cell_type": "code",
      "metadata": {
        "id": "tRpW9xRjUqoP",
        "colab_type": "code",
        "outputId": "56102cc7-bdd0-4037-9923-bb1b2d73487e",
        "colab": {
          "base_uri": "https://localhost:8080/",
          "height": 121
        }
      },
      "source": [
        "!git clone https://github.com/MayerT1/FSH_Python3.git"
      ],
      "execution_count": 0,
      "outputs": [
        {
          "output_type": "stream",
          "text": [
            "Cloning into 'FSH_Python3'...\n",
            "remote: Enumerating objects: 63, done.\u001b[K\n",
            "remote: Counting objects: 100% (63/63), done.\u001b[K\n",
            "remote: Compressing objects: 100% (56/56), done.\u001b[K\n",
            "remote: Total 63 (delta 19), reused 12 (delta 6), pack-reused 0\u001b[K\n",
            "Unpacking objects: 100% (63/63), done.\n"
          ],
          "name": "stdout"
        }
      ]
    },
    {
      "cell_type": "markdown",
      "metadata": {
        "id": "XjwZZPtCWTGF",
        "colab_type": "text"
      },
      "source": [
        "## **(5) Add the Example Data to your Google Drive**\n",
        "\n",
        "\n",
        "<img src=\"http://icons.iconarchive.com/icons/marcus-roberto/google-play/256/Google-Drive-icon.png\">"
      ]
    },
    {
      "cell_type": "markdown",
      "metadata": {
        "id": "-ykMKpLtFeeU",
        "colab_type": "text"
      },
      "source": [
        "Example data for central Maine, US, has already been processed in [ISCE](https://github.com/isce-framework/isce2) (InSAR Scientific Computing Environment). In order to run the FSH scripts on the preprocessed data, the data needs to be added to your Google Drive. Follow the steps below to add the preprocessed ALOS PALSAR data into a folder called `FSH_data`. \n",
        "\n"
      ]
    },
    {
      "cell_type": "markdown",
      "metadata": {
        "colab_type": "text",
        "id": "-AjK_VjKJA2x"
      },
      "source": [
        "(5.1) Make the `FSH_data` folder."
      ]
    },
    {
      "cell_type": "code",
      "metadata": {
        "colab_type": "code",
        "id": "FfJf5q71JAhB",
        "colab": {}
      },
      "source": [
        "!mkdir FSH_data"
      ],
      "execution_count": 0,
      "outputs": []
    },
    {
      "cell_type": "markdown",
      "metadata": {
        "colab_type": "text",
        "id": "aa0v4NDWI_0J"
      },
      "source": [
        "(5.2) Navigate into the `FSH_data` folder."
      ]
    },
    {
      "cell_type": "code",
      "metadata": {
        "colab_type": "code",
        "outputId": "6edbc226-2a1c-4929-ee99-6fc572439cce",
        "id": "F0ApzoH1I_Nj",
        "colab": {
          "base_uri": "https://localhost:8080/",
          "height": 34
        }
      },
      "source": [
        "%cd /content/notebooks/FSH/FSH_data"
      ],
      "execution_count": 0,
      "outputs": [
        {
          "output_type": "stream",
          "text": [
            "/content/mnt/My Drive/Colab Notebooks/FSH/FSH_data\n"
          ],
          "name": "stdout"
        }
      ]
    },
    {
      "cell_type": "markdown",
      "metadata": {
        "id": "EnPVDzmRNrSv",
        "colab_type": "text"
      },
      "source": [
        "(5.3) Follow the link to the [Exercise 1 FSH_data folder](https://drive.google.com/file/d/0B6s-Z6YH5T12Q2g0cWprSUtiMDA/view).\n",
        "\n",
        "(5.4) Download and unzip the files, add the files to your Google Drive as shown below.\n",
        "<img src=\"https://docs.google.com/drawings/d/e/2PACX-1vQjepchRFI0p8FCWX-CbZsmpMNkCMBFWTIxjd083dbVKD8FgyL2sj8YiE-PUb7a5Q0j0fT82vRfXxUN/pub?w=1440&amp;h=1332\">\n",
        "\n",
        "(5.5) Check that your files are within the directory `My Drive/Colab Notebooks/FSH/FSH_data` \n",
        "<img src=\"https://docs.google.com/drawings/d/e/2PACX-1vRDtq5TrgugRABzPbRTpoa9DB1SbjdvGKRPLaC18U8tuIZXceGVzCy3_nNTvRXEVKRUJiWILR49t2sn/pub?w=506&amp;h=512\">"
      ]
    },
    {
      "cell_type": "markdown",
      "metadata": {
        "id": "bGegXc3YX9mV",
        "colab_type": "text"
      },
      "source": [
        "## **(6) Run the Forest Stand Height Scripts**  \n",
        "\n",
        "<img src=\"https://i.pinimg.com/originals/67/19/0b/67190b2076ccdf40951b613878e6bdf8.png\">\n"
      ]
    },
    {
      "cell_type": "markdown",
      "metadata": {
        "id": "j17_IKBgKw0I",
        "colab_type": "text"
      },
      "source": [
        "Navigate to the `FSH_Python3` folder where the FSH scripts are stored. "
      ]
    },
    {
      "cell_type": "code",
      "metadata": {
        "id": "-OAVYraKoJJ7",
        "colab_type": "code",
        "outputId": "8da61220-be60-4535-cff8-286c3358a5b5",
        "colab": {
          "base_uri": "https://localhost:8080/",
          "height": 35
        }
      },
      "source": [
        "%cd /content/notebooks/FSH/FSH_Python3"
      ],
      "execution_count": 0,
      "outputs": [
        {
          "output_type": "stream",
          "text": [
            "/content/mnt/My Drive/Colab Notebooks/FSH/FSH_Python3\n"
          ],
          "name": "stdout"
        }
      ]
    },
    {
      "cell_type": "markdown",
      "metadata": {
        "id": "lAKUv0O5LL3b",
        "colab_type": "text"
      },
      "source": [
        "The scripts shown below are all called by `forest_stand_height.py`"
      ]
    },
    {
      "cell_type": "code",
      "metadata": {
        "id": "G_ChQAX5oTXd",
        "colab_type": "code",
        "outputId": "318e7ab1-697b-49e0-8f76-ff506c4b1125",
        "colab": {
          "base_uri": "https://localhost:8080/",
          "height": 347
        }
      },
      "source": [
        "!ls"
      ],
      "execution_count": 0,
      "outputs": [
        {
          "output_type": "stream",
          "text": [
            "arc_sinc.py\t\t\t   intermediate_pairwise.py\n",
            "auto_mosaicking_new.py\t\t   intermediate.py\n",
            "auto_tree_height_many.py\t   intermediate_self.py\n",
            "auto_tree_height_single_ISCE.py    LICENSE\n",
            "auto_tree_height_single_ROIPAC.py  ls_deltaSC.py\n",
            "cal_error_metric_pairwise.py\t   mean_wo_nan.py\n",
            "cal_error_metric.py\t\t   preview.jpg\n",
            "cal_error_metric_self.py\t   read_geo_data.py\n",
            "cal_KB_pairwise_new.py\t\t   read_linkfile.py\n",
            "cal_KB.py\t\t\t   README.md\n",
            "cal_KB_self_new.py\t\t   read_rsc_data.py\n",
            "create_mosaic.py\t\t   remove_corr_bias.py\n",
            "CROP_ISCE.py\t\t\t   remove_nonforest.py\n",
            "CROP_ROIPAC.py\t\t\t   remove_outlier.py\n",
            "Exercise2_Install_ISCE.ipynb\t   scripts\n",
            "extract_scatterplot_density.py\t   write_deltaSC.py\n",
            "flag_scene_file.py\t\t   write_diff_height_map.py\n",
            "forest_stand_height.py\t\t   write_file_type.py\n",
            "FSHTesting_10_22_19.ipynb\t   write_mapfile_new.py\n"
          ],
          "name": "stdout"
        }
      ]
    },
    {
      "cell_type": "markdown",
      "metadata": {
        "id": "9D-QGdGqLWI7",
        "colab_type": "text"
      },
      "source": [
        ""
      ]
    },
    {
      "cell_type": "code",
      "metadata": {
        "id": "_FN4R6xawzfP",
        "colab_type": "code",
        "colab": {}
      },
      "source": [
        "!python /content/notebooks/FSH/FSH_Python3/forest_stand_height.py 3 2 2 5 \"linkfile.txt\" \"flagfile.txt\" \"Howland_LVIS_NaN.tif\" \"Maine_NLCD2011_nonwildland.tif\" /content/notebooks/FSH/FSH_data/ \"gif json kml mat tif\" --flag_diff=1 --flag_error=1  --flag_proc=1"
      ],
      "execution_count": 0,
      "outputs": []
    },
    {
      "cell_type": "markdown",
      "metadata": {
        "id": "kd49PL4VynCA",
        "colab_type": "text"
      },
      "source": [
        "## **(7) Create a Mosaic of Estimated FSH**"
      ]
    },
    {
      "cell_type": "markdown",
      "metadata": {
        "id": "J9UuOlCbH84N",
        "colab_type": "text"
      },
      "source": [
        ""
      ]
    },
    {
      "cell_type": "code",
      "metadata": {
        "id": "0PqPYZx0ylrP",
        "colab_type": "code",
        "colab": {}
      },
      "source": [
        "!python /content/notebooks/FSH/FSH_Python3/create_mosaic.py \"/content/notebooks/FSH/FSH_data/\" \"3sc_mosaic.tif\" \"/content/notebooks/FSH/FSH_data/f890_o118/890_118_20070808_HV_20070923_HV_fsh.tif /content/notebooks/FSH/FSH_data/f890_o119/890_119_20070710_HV_20071010_HV_fsh.tif /content/notebooks/FSH/FSH_data/f890_o120/890_120_20070727_HV_20070911_HV_fsh.tif\""
      ],
      "execution_count": 0,
      "outputs": []
    },
    {
      "cell_type": "markdown",
      "metadata": {
        "id": "nyV1Q4eExjXR",
        "colab_type": "text"
      },
      "source": [
        "## **(8) Open the forest stand height output \"/content/notebooks/FSH/FSH_data3sc_mosaic.tif\"**\n",
        "**in QGIS or others GIS software**\n",
        "\n",
        "Also all outputs can be found [here](https://drive.google.com/open?id=1djhjkvssKHJWE1YSCKTNCTzai29wMA_c)\n",
        "![](https://drive.google.com/uc?export=view&id=17b7-oSMPN8U353i0Gj4INP-3rGrs_jQN)\n",
        "\n",
        "<img src=\"https://sa1-api.asm.skype.com/v1/objects/0-sa-d5-c8259b57346cde25735281e0418e25b0/views/imgpsh_fullsize_anim\">\n",
        "\n"
      ]
    }
  ]
}
